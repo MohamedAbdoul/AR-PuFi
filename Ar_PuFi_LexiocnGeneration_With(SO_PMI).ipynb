{
  "nbformat": 4,
  "nbformat_minor": 0,
  "metadata": {
    "colab": {
      "provenance": []
    },
    "kernelspec": {
      "name": "python3",
      "display_name": "Python 3"
    }
  },
  "cells": [
    {
      "cell_type": "markdown",
      "metadata": {
        "id": "evavjP3jjxQt"
      },
      "source": [
        "# **Important Installations & Dependencies**\n"
      ]
    },
    {
      "cell_type": "code",
      "metadata": {
        "id": "JuITAb7bJZgU",
        "colab": {
          "base_uri": "https://localhost:8080/"
        },
        "outputId": "55eb7931-8cce-4a4d-f617-ed3c601e9c30"
      },
      "source": [
        "import re\n",
        "import string\n",
        "import math\n",
        "import numpy as np\n",
        "import pandas as pd\n",
        "import csv\n",
        "import seaborn as sns\n",
        "import matplotlib.pyplot as plt\n",
        "import nltk\n",
        "from nltk.corpus import stopwords\n",
        "import operator\n",
        "from math import log\n",
        "!pip install farasapy\n",
        "from farasa.stemmer import FarasaStemmer\n",
        "from sklearn.model_selection  import train_test_split\n",
        "from sklearn.utils import shuffle\n",
        "import itertools\n",
        "import collections\n",
        "from sklearn.feature_extraction.text import CountVectorizer, TfidfTransformer\n",
        "from sklearn.naive_bayes import BernoulliNB\n",
        "from sklearn import metrics\n",
        "from sklearn.metrics import f1_score, precision_score,recall_score\n",
        "from sklearn.metrics import classification_report as creport\n",
        "from multiprocessing import Pool"
      ],
      "execution_count": 2,
      "outputs": [
        {
          "output_type": "stream",
          "name": "stdout",
          "text": [
            "Looking in indexes: https://pypi.org/simple, https://us-python.pkg.dev/colab-wheels/public/simple/\n",
            "Collecting farasapy\n",
            "  Downloading farasapy-0.0.14-py3-none-any.whl (11 kB)\n",
            "Requirement already satisfied: requests in /usr/local/lib/python3.10/dist-packages (from farasapy) (2.27.1)\n",
            "Requirement already satisfied: tqdm in /usr/local/lib/python3.10/dist-packages (from farasapy) (4.65.0)\n",
            "Requirement already satisfied: urllib3<1.27,>=1.21.1 in /usr/local/lib/python3.10/dist-packages (from requests->farasapy) (1.26.15)\n",
            "Requirement already satisfied: certifi>=2017.4.17 in /usr/local/lib/python3.10/dist-packages (from requests->farasapy) (2022.12.7)\n",
            "Requirement already satisfied: charset-normalizer~=2.0.0 in /usr/local/lib/python3.10/dist-packages (from requests->farasapy) (2.0.12)\n",
            "Requirement already satisfied: idna<4,>=2.5 in /usr/local/lib/python3.10/dist-packages (from requests->farasapy) (3.4)\n",
            "Installing collected packages: farasapy\n",
            "Successfully installed farasapy-0.0.14\n"
          ]
        }
      ]
    },
    {
      "cell_type": "markdown",
      "metadata": {
        "id": "Fa7-DN6vU53M"
      },
      "source": [
        "### **Load the Binary Datset**"
      ]
    },
    {
      "cell_type": "code",
      "source": [
        "from google.colab import files\n",
        "uploaded= files.upload ()"
      ],
      "metadata": {
        "id": "2cBUWdu9N63-",
        "colab": {
          "base_uri": "https://localhost:8080/",
          "height": 90
        },
        "outputId": "3c54c4d4-47d6-4d88-a5a4-482af63f643b"
      },
      "execution_count": null,
      "outputs": [
        {
          "output_type": "display_data",
          "data": {
            "text/plain": [
              "<IPython.core.display.HTML object>"
            ],
            "text/html": [
              "\n",
              "     <input type=\"file\" id=\"files-d593051d-ed48-4e7b-90f6-1dfd1f92c89b\" name=\"files[]\" multiple disabled\n",
              "        style=\"border:none\" />\n",
              "     <output id=\"result-d593051d-ed48-4e7b-90f6-1dfd1f92c89b\">\n",
              "      Upload widget is only available when the cell has been executed in the\n",
              "      current browser session. Please rerun this cell to enable.\n",
              "      </output>\n",
              "      <script>// Copyright 2017 Google LLC\n",
              "//\n",
              "// Licensed under the Apache License, Version 2.0 (the \"License\");\n",
              "// you may not use this file except in compliance with the License.\n",
              "// You may obtain a copy of the License at\n",
              "//\n",
              "//      http://www.apache.org/licenses/LICENSE-2.0\n",
              "//\n",
              "// Unless required by applicable law or agreed to in writing, software\n",
              "// distributed under the License is distributed on an \"AS IS\" BASIS,\n",
              "// WITHOUT WARRANTIES OR CONDITIONS OF ANY KIND, either express or implied.\n",
              "// See the License for the specific language governing permissions and\n",
              "// limitations under the License.\n",
              "\n",
              "/**\n",
              " * @fileoverview Helpers for google.colab Python module.\n",
              " */\n",
              "(function(scope) {\n",
              "function span(text, styleAttributes = {}) {\n",
              "  const element = document.createElement('span');\n",
              "  element.textContent = text;\n",
              "  for (const key of Object.keys(styleAttributes)) {\n",
              "    element.style[key] = styleAttributes[key];\n",
              "  }\n",
              "  return element;\n",
              "}\n",
              "\n",
              "// Max number of bytes which will be uploaded at a time.\n",
              "const MAX_PAYLOAD_SIZE = 100 * 1024;\n",
              "\n",
              "function _uploadFiles(inputId, outputId) {\n",
              "  const steps = uploadFilesStep(inputId, outputId);\n",
              "  const outputElement = document.getElementById(outputId);\n",
              "  // Cache steps on the outputElement to make it available for the next call\n",
              "  // to uploadFilesContinue from Python.\n",
              "  outputElement.steps = steps;\n",
              "\n",
              "  return _uploadFilesContinue(outputId);\n",
              "}\n",
              "\n",
              "// This is roughly an async generator (not supported in the browser yet),\n",
              "// where there are multiple asynchronous steps and the Python side is going\n",
              "// to poll for completion of each step.\n",
              "// This uses a Promise to block the python side on completion of each step,\n",
              "// then passes the result of the previous step as the input to the next step.\n",
              "function _uploadFilesContinue(outputId) {\n",
              "  const outputElement = document.getElementById(outputId);\n",
              "  const steps = outputElement.steps;\n",
              "\n",
              "  const next = steps.next(outputElement.lastPromiseValue);\n",
              "  return Promise.resolve(next.value.promise).then((value) => {\n",
              "    // Cache the last promise value to make it available to the next\n",
              "    // step of the generator.\n",
              "    outputElement.lastPromiseValue = value;\n",
              "    return next.value.response;\n",
              "  });\n",
              "}\n",
              "\n",
              "/**\n",
              " * Generator function which is called between each async step of the upload\n",
              " * process.\n",
              " * @param {string} inputId Element ID of the input file picker element.\n",
              " * @param {string} outputId Element ID of the output display.\n",
              " * @return {!Iterable<!Object>} Iterable of next steps.\n",
              " */\n",
              "function* uploadFilesStep(inputId, outputId) {\n",
              "  const inputElement = document.getElementById(inputId);\n",
              "  inputElement.disabled = false;\n",
              "\n",
              "  const outputElement = document.getElementById(outputId);\n",
              "  outputElement.innerHTML = '';\n",
              "\n",
              "  const pickedPromise = new Promise((resolve) => {\n",
              "    inputElement.addEventListener('change', (e) => {\n",
              "      resolve(e.target.files);\n",
              "    });\n",
              "  });\n",
              "\n",
              "  const cancel = document.createElement('button');\n",
              "  inputElement.parentElement.appendChild(cancel);\n",
              "  cancel.textContent = 'Cancel upload';\n",
              "  const cancelPromise = new Promise((resolve) => {\n",
              "    cancel.onclick = () => {\n",
              "      resolve(null);\n",
              "    };\n",
              "  });\n",
              "\n",
              "  // Wait for the user to pick the files.\n",
              "  const files = yield {\n",
              "    promise: Promise.race([pickedPromise, cancelPromise]),\n",
              "    response: {\n",
              "      action: 'starting',\n",
              "    }\n",
              "  };\n",
              "\n",
              "  cancel.remove();\n",
              "\n",
              "  // Disable the input element since further picks are not allowed.\n",
              "  inputElement.disabled = true;\n",
              "\n",
              "  if (!files) {\n",
              "    return {\n",
              "      response: {\n",
              "        action: 'complete',\n",
              "      }\n",
              "    };\n",
              "  }\n",
              "\n",
              "  for (const file of files) {\n",
              "    const li = document.createElement('li');\n",
              "    li.append(span(file.name, {fontWeight: 'bold'}));\n",
              "    li.append(span(\n",
              "        `(${file.type || 'n/a'}) - ${file.size} bytes, ` +\n",
              "        `last modified: ${\n",
              "            file.lastModifiedDate ? file.lastModifiedDate.toLocaleDateString() :\n",
              "                                    'n/a'} - `));\n",
              "    const percent = span('0% done');\n",
              "    li.appendChild(percent);\n",
              "\n",
              "    outputElement.appendChild(li);\n",
              "\n",
              "    const fileDataPromise = new Promise((resolve) => {\n",
              "      const reader = new FileReader();\n",
              "      reader.onload = (e) => {\n",
              "        resolve(e.target.result);\n",
              "      };\n",
              "      reader.readAsArrayBuffer(file);\n",
              "    });\n",
              "    // Wait for the data to be ready.\n",
              "    let fileData = yield {\n",
              "      promise: fileDataPromise,\n",
              "      response: {\n",
              "        action: 'continue',\n",
              "      }\n",
              "    };\n",
              "\n",
              "    // Use a chunked sending to avoid message size limits. See b/62115660.\n",
              "    let position = 0;\n",
              "    do {\n",
              "      const length = Math.min(fileData.byteLength - position, MAX_PAYLOAD_SIZE);\n",
              "      const chunk = new Uint8Array(fileData, position, length);\n",
              "      position += length;\n",
              "\n",
              "      const base64 = btoa(String.fromCharCode.apply(null, chunk));\n",
              "      yield {\n",
              "        response: {\n",
              "          action: 'append',\n",
              "          file: file.name,\n",
              "          data: base64,\n",
              "        },\n",
              "      };\n",
              "\n",
              "      let percentDone = fileData.byteLength === 0 ?\n",
              "          100 :\n",
              "          Math.round((position / fileData.byteLength) * 100);\n",
              "      percent.textContent = `${percentDone}% done`;\n",
              "\n",
              "    } while (position < fileData.byteLength);\n",
              "  }\n",
              "\n",
              "  // All done.\n",
              "  yield {\n",
              "    response: {\n",
              "      action: 'complete',\n",
              "    }\n",
              "  };\n",
              "}\n",
              "\n",
              "scope.google = scope.google || {};\n",
              "scope.google.colab = scope.google.colab || {};\n",
              "scope.google.colab._files = {\n",
              "  _uploadFiles,\n",
              "  _uploadFilesContinue,\n",
              "};\n",
              "})(self);\n",
              "</script> "
            ]
          },
          "metadata": {}
        },
        {
          "output_type": "stream",
          "name": "stdout",
          "text": [
            "Saving BinaryPublicFigures.xlsx to BinaryPublicFigures.xlsx\n"
          ]
        }
      ]
    },
    {
      "cell_type": "code",
      "source": [
        "import io\n",
        "df= pd.read_excel(io.BytesIO(uploaded['BinaryPublicFigures.xlsx'])) \n",
        "df= df[['Text','Label']]\n",
        "df\n",
        "# path='/content/BinaryPublicFigures.xlsx'\n",
        "# df = pd.read_excel(path)\n",
        "# df= df['Text','Label']\n"
      ],
      "metadata": {
        "id": "iPDqgXk_IsYD"
      },
      "execution_count": null,
      "outputs": []
    },
    {
      "cell_type": "markdown",
      "source": [
        "### **Load the Multi Datset**"
      ],
      "metadata": {
        "id": "QaNP2VGsPEW1"
      }
    },
    {
      "cell_type": "code",
      "metadata": {
        "id": "Ci4Iyu40gDOX"
      },
      "source": [
        "# from google.colab import files\n",
        "# uploaded= files.upload ()"
      ],
      "execution_count": null,
      "outputs": []
    },
    {
      "cell_type": "code",
      "metadata": {
        "id": "l4oPqx3CK9wa"
      },
      "source": [
        "# import io\n",
        "# Art= pd.read_excel(io.BytesIO(uploaded['Art.xlsx']))\n",
        "# Art= Art[['Text','Label']]"
      ],
      "execution_count": null,
      "outputs": []
    },
    {
      "cell_type": "code",
      "metadata": {
        "id": "mT3hAyvcgEeY"
      },
      "source": [
        "# from google.colab import files\n",
        "# uploaded= files.upload ()"
      ],
      "execution_count": null,
      "outputs": []
    },
    {
      "cell_type": "code",
      "metadata": {
        "id": "W564saudgNm9"
      },
      "source": [
        "# import io\n",
        "# Business= pd.read_excel(io.BytesIO(uploaded['Business.xlsx']))\n",
        "# Business= Business[['Text','Label']]"
      ],
      "execution_count": null,
      "outputs": []
    },
    {
      "cell_type": "code",
      "metadata": {
        "id": "sWdQy28cgH0C"
      },
      "source": [
        "# from google.colab import files\n",
        "# uploaded= files.upload ()"
      ],
      "execution_count": null,
      "outputs": []
    },
    {
      "cell_type": "code",
      "metadata": {
        "id": "8oHdahBOgOzu"
      },
      "source": [
        "# import io\n",
        "# Politics= pd.read_excel(io.BytesIO(uploaded['Politics.xlsx']))\n",
        "# Politics= Politics[['Text','Label']]"
      ],
      "execution_count": null,
      "outputs": []
    },
    {
      "cell_type": "code",
      "metadata": {
        "id": "4VNjnEs3gH6S"
      },
      "source": [
        "# from google.colab import files\n",
        "# uploaded= files.upload ()"
      ],
      "execution_count": null,
      "outputs": []
    },
    {
      "cell_type": "code",
      "metadata": {
        "id": "k56F-rHLgPV_"
      },
      "source": [
        "# import io\n",
        "# Judiciary= pd.read_excel(io.BytesIO(uploaded['Judiciary.xlsx']))\n",
        "# Judiciary= Judiciary[['Text','Label']]"
      ],
      "execution_count": null,
      "outputs": []
    },
    {
      "cell_type": "code",
      "metadata": {
        "id": "zP2PpwfhgIAi"
      },
      "source": [
        "# from google.colab import files\n",
        "# uploaded= files.upload ()"
      ],
      "execution_count": null,
      "outputs": []
    },
    {
      "cell_type": "code",
      "metadata": {
        "id": "BXIN6mc8gPvf"
      },
      "source": [
        "# import io\n",
        "# Sports= pd.read_excel(io.BytesIO(uploaded['Sports.xlsx']))\n",
        "# Sports= Sports[['Text','Label']]"
      ],
      "execution_count": null,
      "outputs": []
    },
    {
      "cell_type": "code",
      "metadata": {
        "id": "zJsFbVuegIGq"
      },
      "source": [
        "# from google.colab import files\n",
        "# uploaded= files.upload ()"
      ],
      "execution_count": null,
      "outputs": []
    },
    {
      "cell_type": "code",
      "metadata": {
        "id": "GFtB-HFUgQN3"
      },
      "source": [
        "# import io\n",
        "# Literature= pd.read_excel(io.BytesIO(uploaded['Literature.xlsx']))\n",
        "# Literature= Literature[['Text','Label']]"
      ],
      "execution_count": null,
      "outputs": []
    },
    {
      "cell_type": "code",
      "metadata": {
        "id": "PSBsUKCDLnFt"
      },
      "source": [
        "# frames= [Literature,Sport, Judiciary, Politics, Art, Business]\n",
        "# df= pd.concat(frames)"
      ],
      "execution_count": null,
      "outputs": []
    },
    {
      "cell_type": "markdown",
      "metadata": {
        "id": "GOjj6XvckTSB"
      },
      "source": [
        "# **Data Preprocessing**\n"
      ]
    },
    {
      "cell_type": "code",
      "metadata": {
        "id": "cTEWf1FbyXxu"
      },
      "source": [
        "def clean(df):\n",
        "    df = remove_diacritics(df)\n",
        "    df = normalize_arabic(df)\n",
        "    df = remove_punctuations(df)\n",
        "    df = remove_repeating_char(df)\n",
        "    df= remove_english_word_and_numbers(df)\n",
        "    df=clean_space(df)\n",
        "    return df"
      ],
      "execution_count": null,
      "outputs": []
    },
    {
      "cell_type": "code",
      "metadata": {
        "id": "3Y2ur_EkyeQy"
      },
      "source": [
        "arabic_punctuations = '''`÷« »×؛<>٩٨'٧٦٥٤٣٢١٠_()↗*•&^%][ـ،/:\"؟.,'{}⋮≈~¦+|٪!”…“–ـ/[]%=#*+\\\\•~@£·_{}©^®`→°€™›♥←×§″′Â█à…“★”–●â►−¢¬░¶↑±▾\t═¦║―¥▓—‹─▒：⊕▼▪†■’▀¨▄♫☆é¯♦¤▲è¸Ã⋅‘∞∙）↓、│（»，♪╩╚³・╦╣╔╗▬❤ïØ¹≤‡₹´'''\n",
        "english_punctuations = string.punctuation\n",
        "punctuations_list = arabic_punctuations + english_punctuations\n",
        "\n",
        "arabic_diacritics = re.compile(\"\"\"\n",
        "                             ّ    | # Tashdid\n",
        "                             َ    | # Fatha\n",
        "                             ً    | # Tanwin Fath\n",
        "                             ُ    | # Damma\n",
        "                             ٌ    | # Tanwin Damm\n",
        "                             ِ    | # Kasra\n",
        "                             ٍ    | # Tanwin Kasr\n",
        "                             ْ    | # Sukun\n",
        "                             ـ     # Tatwil/Kashida\n",
        "                         \"\"\", re.VERBOSE)\n"
      ],
      "execution_count": null,
      "outputs": []
    },
    {
      "cell_type": "code",
      "metadata": {
        "id": "ODlY489hyuNN"
      },
      "source": [
        "def remove_diacritics(df):\n",
        "    df['Text'] = df['Text'].apply(lambda x: _remove_diacritics(x))\n",
        "    return df\n",
        "def _remove_diacritics(x):\n",
        "    x = str(x)\n",
        "    x = re.sub(arabic_diacritics, '', x)\n",
        "    return x\n",
        "\n",
        "def normalize_arabic(df):\n",
        "    df['Text'] = df['Text'].apply(lambda x: _normalize_arabic(x))\n",
        "    return df\n",
        "def _normalize_arabic(x):\n",
        "    x = str(x)\n",
        "    # added space around puncts after replace\n",
        "    x = re.sub(\"[إأآا]\", \"ا\", x)\n",
        "    x = re.sub(\"ى\", \"ي\", x)\n",
        "    x = re.sub(\"ؤ\", \"ء\", x)\n",
        "    x = re.sub(\"ئ\", \"ء\", x)\n",
        "    x = re.sub(\"ة\", \"ه\", x)\n",
        "    x = re.sub(\"گ\", \"ك\", x)\n",
        "    return x\n",
        "\n",
        "def remove_punctuations(df):\n",
        "    df['Text'] = df['Text'].apply(lambda x: _remove_punctuations(x))\n",
        "    return df\n",
        "def _remove_punctuations(x):\n",
        "    x = str(x)\n",
        "    #translator = str.maketrans(' ', ' ', punctuations_list)\n",
        "    translator = str.maketrans(punctuations_list, ' '*len(punctuations_list))\n",
        "    return x.translate(translator)\n",
        "\n",
        "def remove_repeating_char(df):\n",
        "    df['Text'] = df['Text'].apply(lambda x: _remove_repeating_char(x))\n",
        "    return df\n",
        "def _remove_repeating_char(x):\n",
        "    x = str(x)\n",
        "    return re.sub(r'(.)\\1+', r'\\1', x)\n",
        "\n",
        "def remove_english_word_and_numbers(df):\n",
        "    df['Text'] = df['Text'].apply(lambda x: _remove_english_word_and_numbers(x))\n",
        "    return df\n",
        "def _remove_english_word_and_numbers(x):\n",
        "    x = str(x)\n",
        "    return re.sub(r'[a-zA-Z0-9]+', '', x)\n",
        "\n",
        "def clean_space(df):\n",
        "    compiled_re = re.compile(r\"\\s+\")\n",
        "    df['Text'] = df[\"Text\"].apply(lambda x: _clean_space(x, compiled_re))\n",
        "    return df\n",
        "def _clean_space(x, compiled_re):\n",
        "    return compiled_re.sub(\" \", x)\n"
      ],
      "execution_count": null,
      "outputs": []
    },
    {
      "cell_type": "code",
      "metadata": {
        "id": "WvWj2NZcwdKD",
        "colab": {
          "base_uri": "https://localhost:8080/"
        },
        "outputId": "9922c16a-8466-4375-dc2f-c0c3099c0a39"
      },
      "source": [
        "text_a=df['Text'].values.tolist()\n",
        "print(len(text_a))"
      ],
      "execution_count": null,
      "outputs": [
        {
          "output_type": "stream",
          "name": "stdout",
          "text": [
            "24496\n"
          ]
        }
      ]
    },
    {
      "cell_type": "code",
      "metadata": {
        "id": "lS8bux9gxvY-",
        "colab": {
          "base_uri": "https://localhost:8080/"
        },
        "outputId": "c055bed7-ed89-4ef2-be5f-51c42d8097ed"
      },
      "source": [
        "nltk.download('punkt')\n",
        "nltk.download('stopwords')\n",
        "stop_words= stopwords.words('arabic')\n",
        "for index,text_ in enumerate(text_a):\n",
        "    text_=\" \".join(i for i in text_.split() if i not in stop_words) #Removing stopword\n",
        "    text_a[index]=text_"
      ],
      "execution_count": null,
      "outputs": [
        {
          "output_type": "stream",
          "name": "stderr",
          "text": [
            "[nltk_data] Downloading package punkt to /root/nltk_data...\n",
            "[nltk_data]   Unzipping tokenizers/punkt.zip.\n",
            "[nltk_data] Downloading package stopwords to /root/nltk_data...\n",
            "[nltk_data]   Unzipping corpora/stopwords.zip.\n"
          ]
        }
      ]
    },
    {
      "cell_type": "code",
      "metadata": {
        "id": "qxfZjOmFvYf_",
        "colab": {
          "base_uri": "https://localhost:8080/"
        },
        "outputId": "5991ac0b-d9f4-4953-de00-63232d477fc5"
      },
      "source": [
        "#Stemming the word\n",
        "stemmer = FarasaStemmer(interactive=True)\n",
        "for index,text_ in enumerate(text_a):\n",
        "    text_=\" \".join(stemmer.stem(i) for i in text_.split())   \n",
        "    text_a[index]=text_"
      ],
      "execution_count": null,
      "outputs": [
        {
          "output_type": "stream",
          "name": "stderr",
          "text": [
            "/usr/local/lib/python3.10/dist-packages/urllib3/connectionpool.py:1045: InsecureRequestWarning: Unverified HTTPS request is being made to host 'farasa-api.qcri.org'. Adding certificate verification is strongly advised. See: https://urllib3.readthedocs.io/en/1.26.x/advanced-usage.html#ssl-warnings\n",
            "  warnings.warn(\n"
          ]
        },
        {
          "output_type": "stream",
          "name": "stdout",
          "text": [
            "100%|██████████| 241M/241M [00:26<00:00, 8.96MiB/s]\n"
          ]
        },
        {
          "output_type": "stream",
          "name": "stderr",
          "text": [
            "[2023-06-07 12:30:26,934 - farasapy_logger - WARNING]: Be careful with large lines as they may break on interactive mode. You may switch to Standalone mode for such cases.\n"
          ]
        }
      ]
    },
    {
      "cell_type": "code",
      "metadata": {
        "id": "i55KUVbMaRHT"
      },
      "source": [
        "df['Text']=text_a[:len(df)]\n",
        "df.head()"
      ],
      "execution_count": null,
      "outputs": []
    },
    {
      "cell_type": "code",
      "metadata": {
        "id": "CqmgO_XDzILE"
      },
      "source": [
        "num_cores = 2\n",
        "def df_parallelize_run(df, func, num_cores=2):\n",
        "    df_split = np.array_split(df, num_cores)\n",
        "    pool = Pool(num_cores)\n",
        "    df = pd.concat(pool.map(func, df_split))\n",
        "    pool.close()\n",
        "    pool.join()\n",
        "    return df"
      ],
      "execution_count": null,
      "outputs": []
    },
    {
      "cell_type": "code",
      "metadata": {
        "id": "m870svOszLGn"
      },
      "source": [
        "df = df_parallelize_run(df, clean)"
      ],
      "execution_count": null,
      "outputs": []
    },
    {
      "cell_type": "code",
      "source": [
        "df= shuffle(df,random_state=0)\n",
        "df.head()"
      ],
      "metadata": {
        "id": "EXDSdPu3JKGS"
      },
      "execution_count": null,
      "outputs": []
    },
    {
      "cell_type": "markdown",
      "source": [
        "# **N-Gram generation (Only one token)**\n"
      ],
      "metadata": {
        "id": "gTcfjjdn6Jhp"
      }
    },
    {
      "cell_type": "code",
      "source": [
        "x=df.iloc[:,0]\n",
        "y=df.iloc[:,1]\n",
        "X=x.to_dict()\n",
        "\n",
        "X=[]\n",
        "for d in range(len(x)):\n",
        "    b=x[d]\n",
        "    X.append(b) "
      ],
      "metadata": {
        "id": "fsYpS6fhk7Cu"
      },
      "execution_count": null,
      "outputs": []
    },
    {
      "cell_type": "code",
      "source": [
        "count_vect=CountVectorizer(ngram_range=(1,1))\n",
        "X_train_counts=count_vect.fit_transform(X)\n",
        "# X_train_counts = np.array(X_train_counts)\n",
        "df_bow_sklearn = pd.DataFrame(X_train_counts.toarray(),columns=count_vect.get_feature_names_out())\n",
        "df_bow_sklearn.head()"
      ],
      "metadata": {
        "id": "5kb2rPSXk7Ju"
      },
      "execution_count": null,
      "outputs": []
    },
    {
      "cell_type": "code",
      "source": [
        "df_bow_sklearn ['Label']= df['Label']"
      ],
      "metadata": {
        "id": "L4HN-cXVk7Lm"
      },
      "execution_count": null,
      "outputs": []
    },
    {
      "cell_type": "code",
      "source": [
        "df_bow_sklearn = shuffle(df_bow_sklearn)"
      ],
      "metadata": {
        "id": "Opy8ZuOP2fDD"
      },
      "execution_count": null,
      "outputs": []
    },
    {
      "cell_type": "code",
      "source": [
        "df_bow_sklearn['Label'] = df_bow_sklearn['Label'].replace([0, 1], ['Offensive', 'Benign'])"
      ],
      "metadata": {
        "id": "-wQ8UPO549QU"
      },
      "execution_count": null,
      "outputs": []
    },
    {
      "cell_type": "code",
      "source": [
        "# SSS=SSS.reset_index()\n",
        "def list_token(doc , ack):\n",
        "    temp1=pd.DataFrame(doc).transpose()\n",
        "    temp2 = temp1.loc[:, (temp1 != 0).any(axis=0)]\n",
        "    freq = temp2.drop(['Label'], axis=1)\n",
        "    list_words =freq.columns.tolist()\n",
        "    return list_words"
      ],
      "metadata": {
        "id": "ga9A8Y4hk7PO"
      },
      "execution_count": null,
      "outputs": []
    },
    {
      "cell_type": "code",
      "source": [
        "word_cl_dic={}\n",
        "n = len(df_bow_sklearn)"
      ],
      "metadata": {
        "id": "qmFxnQIZk7Q_"
      },
      "execution_count": null,
      "outputs": []
    },
    {
      "cell_type": "code",
      "source": [
        "for i in range(0,len(df_bow_sklearn)):\n",
        "    dt=df_bow_sklearn.iloc[i,]\n",
        "    lst_words=list_token(dt,0)\n",
        "    cl=dt['Label']\n",
        "    for w in set(lst_words):\n",
        "        word_cl_dic[w]=word_cl_dic.get(w,{})\n",
        "        word_cl_dic[w][cl]=word_cl_dic[w].get(cl,0)\n",
        "        word_cl_dic[w][cl]+=1\n"
      ],
      "metadata": {
        "id": "Z4yiM-jAk7Sv"
      },
      "execution_count": null,
      "outputs": []
    },
    {
      "cell_type": "code",
      "source": [
        "word_cl_dic"
      ],
      "metadata": {
        "id": "lmmEdVwZvY9n"
      },
      "execution_count": null,
      "outputs": []
    },
    {
      "cell_type": "code",
      "source": [
        "df_bow_sklearn['ID'] = df_bow_sklearn.index"
      ],
      "metadata": {
        "id": "QX0YVvRdyF_h"
      },
      "execution_count": null,
      "outputs": []
    },
    {
      "cell_type": "code",
      "source": [
        "word_features={}\n",
        "k=(df_bow_sklearn.shape[1]-2)\n",
        "num_doc_cl=df_bow_sklearn.groupby(['Label'])['ID'].count()\n",
        "num_doc_cl"
      ],
      "metadata": {
        "id": "edHk0290wSGt"
      },
      "execution_count": null,
      "outputs": []
    },
    {
      "cell_type": "markdown",
      "source": [
        "# **PMI Calculation**\n"
      ],
      "metadata": {
        "id": "Xdoo5EwQ8eGP"
      }
    },
    {
      "cell_type": "code",
      "source": [
        "for w in word_cl_dic.keys():\n",
        "    dic = word_cl_dic[w]\n",
        "    n_kw=0\n",
        "    for cl in dic.keys():\n",
        "        n_kw+=dic[cl] ## number of documents where the word occurs\n",
        "    for cl in dic.keys():\n",
        "        word_features[cl]=word_features.get(cl,[])\n",
        "        n_kw_cl=dic[cl]\n",
        "        n_dev_cl=num_doc_cl.loc[cl]\n",
        "        p_w=n_kw/n\n",
        "        p_cl = n_dev_cl/n\n",
        "        p_w_cl= n_kw_cl/n\n",
        "        \n",
        "        pmi=log((p_w_cl)/(p_w*p_cl))\n",
        "        if len(word_features[cl])<k:\n",
        "            word_features[cl].append((w,pmi))\n",
        "            if len(word_features[cl])==k:\n",
        "                word_features[cl].sort(key=operator.itemgetter(1),reverse=True)                \n",
        "        else:\n",
        "            if word_features[cl][k-1][1]<pmi:\n",
        "                word_features[cl][k-1]= (w,pmi)\n",
        "                word_features[cl].sort(key=operator.itemgetter(1),reverse=True)   "
      ],
      "metadata": {
        "id": "hcAEUm_hyYr7"
      },
      "execution_count": null,
      "outputs": []
    },
    {
      "cell_type": "code",
      "source": [
        "Offensive_words, benign_words= [], []\n",
        "for field, value in word_features.items():\n",
        "    if field == 'Offensive':\n",
        "        Offensive_words = value\n",
        "    else:\n",
        "        benign_words = value\n",
        "    \n",
        "print(Offensive_words)"
      ],
      "metadata": {
        "id": "2srspR1jEP3B"
      },
      "execution_count": null,
      "outputs": []
    },
    {
      "cell_type": "code",
      "source": [
        "print(benign_words)"
      ],
      "metadata": {
        "id": "8ZnKaRxnE6Eo"
      },
      "execution_count": null,
      "outputs": []
    },
    {
      "cell_type": "code",
      "source": [
        "def Convert(tup, di):\n",
        "    di = dict(tup)\n",
        "    return di\n",
        "     \n",
        "# Driver Code\n",
        "dictionary = {}\n",
        "benign_words_to_dictionary=Convert(benign_words, dictionary)\n",
        "print (benign_words_to_dictionary)"
      ],
      "metadata": {
        "id": "14jdB4SukTqI"
      },
      "execution_count": null,
      "outputs": []
    },
    {
      "cell_type": "code",
      "source": [
        "dictionary_1 = {}\n",
        "Offensive_words_to_dictionary=Convert(Offensive_words, dictionary_1)\n",
        "print (benign_words_to_dictionary)"
      ],
      "metadata": {
        "id": "CFUs7qNxm--o"
      },
      "execution_count": null,
      "outputs": []
    },
    {
      "cell_type": "markdown",
      "source": [
        "# **SO Calculation**\n"
      ],
      "metadata": {
        "id": "t204UfAt8lPQ"
      }
    },
    {
      "cell_type": "code",
      "source": [
        "Cdict = collections.defaultdict(int)\n",
        "for key, val in itertools.chain(benign_words_to_dictionary.items(), benign_words_to_dictionary.items()):\n",
        "    Cdict[key] -= val\n",
        "     \n",
        "print(dict(Cdict))"
      ],
      "metadata": {
        "id": "F99CVl9ft2Iz"
      },
      "execution_count": null,
      "outputs": []
    },
    {
      "cell_type": "markdown",
      "source": [
        "# **Generated Lexicon**"
      ],
      "metadata": {
        "id": "m2qTG8x-8tku"
      }
    },
    {
      "cell_type": "code",
      "source": [
        "Finall_Lexicon= pd.DataFrame({\"key\": Cdict.keys(), \"value\": Cdict.values()})\n",
        "Finall_Lexicon.to_csv (r'Lexicon.csv', index=False, header=True, encoding ='utf-8-sig')"
      ],
      "metadata": {
        "id": "yPrTYkfF3sby"
      },
      "execution_count": null,
      "outputs": []
    },
    {
      "cell_type": "code",
      "source": [
        "Lexicon.head(10)"
      ],
      "metadata": {
        "id": "Lwj3OmCC4N0p"
      },
      "execution_count": null,
      "outputs": []
    },
    {
      "cell_type": "code",
      "source": [
        "# with open('Lexicon.csv', 'w', encoding='utf-8-sig') as file:\n",
        "#     writer = csv.DictWriter(file, fieldnames=Cdict.keys())\n",
        "#     writer.writeheader()\n",
        "#     writer.writerows(Cdict.values())\n",
        "#Lexicon.head(10)"
      ],
      "metadata": {
        "id": "X-pS2CtP9y45"
      },
      "execution_count": 5,
      "outputs": []
    },
    {
      "cell_type": "code",
      "source": [],
      "metadata": {
        "id": "UQnYU_w1_NY3"
      },
      "execution_count": null,
      "outputs": []
    }
  ]
}